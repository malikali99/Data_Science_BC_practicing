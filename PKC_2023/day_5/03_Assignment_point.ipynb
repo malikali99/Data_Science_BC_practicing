{
 "cells": [
  {
   "attachments": {},
   "cell_type": "markdown",
   "metadata": {},
   "source": [
    "#### Assignment: Ipynb file ko pdf ma convert kis tra krna ha?"
   ]
  },
  {
   "attachments": {},
   "cell_type": "markdown",
   "metadata": {},
   "source": [
    "### 01. Assignment Bhejna ka tareeka by Sir Aammar Tufail\n",
    "### 02. Subbject of this python Script:\n",
    "### 03. Auther By: Mr Malik Hasnain Ali\n",
    "### 04. Where to Contact: (Only put Gilthub profile/ Email / Linkedin Profile)\n",
    "### 05. \"Assignment bhejta waqt ap na koi chawal ni marni\"\n",
    "### 06. Ap na Assignment ma step wise sab kuxh likhna ha\n",
    "### 07. **Subject of this notebook:**\n",
    "### 08. Authorized by: DR. Aammar Tufail/\n",
    "### 09. [Lecture-5](Youtube channel link)"
   ]
  },
  {
   "cell_type": "markdown",
   "metadata": {},
   "source": []
  },
  {
   "cell_type": "code",
   "execution_count": null,
   "metadata": {},
   "outputs": [],
   "source": []
  }
 ],
 "metadata": {
  "language_info": {
   "name": "python"
  },
  "orig_nbformat": 4
 },
 "nbformat": 4,
 "nbformat_minor": 2
}
